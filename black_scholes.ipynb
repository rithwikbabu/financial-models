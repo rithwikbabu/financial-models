{
  "nbformat": 4,
  "nbformat_minor": 0,
  "metadata": {
    "colab": {
      "provenance": [],
      "authorship_tag": "ABX9TyOe57GWJrfsCoOgCcg+EDbK"
    },
    "kernelspec": {
      "name": "python3",
      "display_name": "Python 3"
    },
    "language_info": {
      "name": "python"
    }
  },
  "cells": [
    {
      "cell_type": "code",
      "source": [
        "import math\n",
        "import numpy as np\n",
        "from scipy.stats import norm"
      ],
      "metadata": {
        "id": "R2Zjq8rDCBWs"
      },
      "execution_count": 6,
      "outputs": []
    },
    {
      "cell_type": "code",
      "execution_count": 7,
      "metadata": {
        "id": "2fra8V-IQfb4"
      },
      "outputs": [],
      "source": [
        "class BlackScholesModel:\n",
        "    \"\"\"\n",
        "    This class implements the Black-Scholes model for pricing European call and put options.\n",
        "    \"\"\"\n",
        "\n",
        "    def __init__(self):\n",
        "        \"\"\"\n",
        "        Initializes the BlackScholesModel class.\n",
        "        \"\"\"\n",
        "        pass  # placeholder\n",
        "\n",
        "    def _calculate_factors(self, S, K, T, r, sigma):\n",
        "        \"\"\"\n",
        "        Calculates the d1 and d2 factors used in the Black-Scholes formula.\n",
        "        \"\"\"\n",
        "        d1 = (math.log(S / K) + (r + (sigma ** 2) / 2) * T) / (sigma * math.sqrt(T))\n",
        "        d2 = d1 - sigma * math.sqrt(T)\n",
        "\n",
        "        return d1, d2\n",
        "\n",
        "    def _price_call_option(self, S, K, T, r, sigma):\n",
        "        \"\"\"\n",
        "        Calculates the price of a European call option using the Black-Scholes formula.\n",
        "        \"\"\"\n",
        "        d1, d2 = self._calculate_factors(S, K, T, r, sigma)\n",
        "        call_price = norm.cdf(d1) * S - norm.cdf(d2) * K * math.exp(-r * T)\n",
        "\n",
        "        return call_price\n",
        "\n",
        "    def _price_put_option(self, S, K, T, r, sigma):\n",
        "        \"\"\"\n",
        "        Calculates the price of a European put option using the Black-Scholes formula.\n",
        "        \"\"\"\n",
        "        d1, d2 = self._calculate_factors(S, K, T, r, sigma)\n",
        "        put_price = K * math.exp(-r * T) * norm.cdf(-d2) - S * norm.cdf(-d1)\n",
        "\n",
        "        return put_price\n",
        "\n",
        "    def price_option(self, S, K, T, r, sigma, option_type='call'):\n",
        "        \"\"\"\n",
        "        Prices a European option (call or put) using the Black Scholes model.\n",
        "        \"\"\"\n",
        "        if option_type == \"call\":\n",
        "            return self._price_call_option(S, K, T, r, sigma)\n",
        "        else:\n",
        "            return self._price_put_option(S, K, T, r, sigma)\n"
      ]
    },
    {
      "cell_type": "code",
      "source": [
        "model = BlackScholesModel()\n",
        "price_call = model.price_option(S=100, K=100, T=1, r=0.05, sigma=0.2, option_type='call')\n",
        "price_put = model.price_option(S=100, K=100, T=1, r=0.05, sigma=0.2, option_type='put')\n",
        "\n",
        "print(f\"European Call Option Price: {price_call}\")\n",
        "print(f\"European Put Option Price: {price_put}\")"
      ],
      "metadata": {
        "colab": {
          "base_uri": "https://localhost:8080/"
        },
        "id": "tjINTwR76a0U",
        "outputId": "91cb5bb5-e1d6-4706-acbb-2475349ca119"
      },
      "execution_count": 8,
      "outputs": [
        {
          "output_type": "stream",
          "name": "stdout",
          "text": [
            "European Call Option Price: 10.450583572185572\n",
            "European Put Option Price: 5.573526022256971\n"
          ]
        }
      ]
    }
  ]
}