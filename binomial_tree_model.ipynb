{
  "nbformat": 4,
  "nbformat_minor": 0,
  "metadata": {
    "colab": {
      "provenance": [],
      "authorship_tag": "ABX9TyMaoE4AB0BwgRQSdD2+pZCf",
      "include_colab_link": true
    },
    "kernelspec": {
      "name": "python3",
      "display_name": "Python 3"
    },
    "language_info": {
      "name": "python"
    }
  },
  "cells": [
    {
      "cell_type": "markdown",
      "metadata": {
        "id": "view-in-github",
        "colab_type": "text"
      },
      "source": [
        "<a href=\"https://colab.research.google.com/github/rithwikbabu/financial-models/blob/main/binomial_tree_model.ipynb\" target=\"_parent\"><img src=\"https://colab.research.google.com/assets/colab-badge.svg\" alt=\"Open In Colab\"/></a>"
      ]
    },
    {
      "cell_type": "code",
      "source": [
        "import numpy as np"
      ],
      "metadata": {
        "id": "9zCWJtrvB-hi"
      },
      "execution_count": 2,
      "outputs": []
    },
    {
      "cell_type": "code",
      "execution_count": 3,
      "metadata": {
        "id": "6JMBGI4aBDXI"
      },
      "outputs": [],
      "source": [
        "class BinomialTreeModel:\n",
        "    \"\"\"\n",
        "    This class implements the Binomial Tree model for pricing American options.\n",
        "    \"\"\"\n",
        "\n",
        "    def __init__(self, steps=100):\n",
        "        \"\"\"\n",
        "        Initializes the BinomialTreeModel class.\n",
        "        \"\"\"\n",
        "        self.steps = steps\n",
        "\n",
        "    def price_option(self, S, K, T, r, sigma, option_type='call'):\n",
        "        \"\"\"\n",
        "        Prices an American option (call or put) using the Binomial Tree model.\n",
        "        \"\"\"\n",
        "        dt = T / self.steps\n",
        "        u = np.exp(sigma * np.sqrt(dt))\n",
        "        d = 1 / u\n",
        "        p = (np.exp(r * dt) - d) / (u - d)\n",
        "\n",
        "        # init asset\n",
        "        asset_prices = np.asarray([S * (u ** j) * (d ** (self.steps - j)) for j in range(self.steps + 1)])\n",
        "\n",
        "        # init options\n",
        "        if option_type == 'call':\n",
        "            option_values = np.maximum(asset_prices - K, 0)\n",
        "        elif option_type == 'put':\n",
        "            option_values = np.maximum(K - asset_prices, 0)\n",
        "        else:\n",
        "            raise ValueError(\"Invalid option type. Use 'call' or 'put'.\")\n",
        "\n",
        "        # bottom up\n",
        "        for i in range(self.steps, 0, -1):\n",
        "            option_values = np.exp(-r * dt) * (p * option_values[1:] + (1 - p) * option_values[:-1])\n",
        "\n",
        "            # check for early exercise\n",
        "            if option_type == 'call':\n",
        "                asset_prices = asset_prices[:-1] * u  # adj to prev step\n",
        "                option_values = np.maximum(option_values, asset_prices - K)\n",
        "            elif option_type == 'put':\n",
        "                asset_prices = asset_prices[:-1] * u  # adj to prev step\n",
        "                option_values = np.maximum(option_values, K - asset_prices)\n",
        "\n",
        "        return option_values[0]"
      ]
    },
    {
      "cell_type": "code",
      "source": [
        "model = BinomialTreeModel(steps=500)\n",
        "price_call = model.price_option(S=100, K=100, T=1, r=0.05, sigma=0.2, option_type='call')\n",
        "price_put = model.price_option(S=100, K=100, T=1, r=0.05, sigma=0.2, option_type='put')\n",
        "\n",
        "print(f\"American Call Option Price: {price_call}\")\n",
        "print(f\"American Put Option Price: {price_put}\")"
      ],
      "metadata": {
        "colab": {
          "base_uri": "https://localhost:8080/"
        },
        "id": "titVossZBqZ2",
        "outputId": "2cba3fa4-04ac-49f9-d752-cc4b56f4289d"
      },
      "execution_count": 4,
      "outputs": [
        {
          "output_type": "stream",
          "name": "stdout",
          "text": [
            "American Call Option Price: 10.44658513644654\n",
            "American Put Option Price: 6.088810110702773\n"
          ]
        }
      ]
    }
  ]
}